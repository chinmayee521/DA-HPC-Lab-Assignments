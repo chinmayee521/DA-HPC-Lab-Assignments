{
  "nbformat": 4,
  "nbformat_minor": 0,
  "metadata": {
    "colab": {
      "name": "Minimum element, Maximum element, Mean and standard deviation.ipynb",
      "provenance": []
    },
    "kernelspec": {
      "name": "python3",
      "display_name": "Python 3"
    },
    "accelerator": "GPU"
  },
  "cells": [
    {
      "cell_type": "markdown",
      "metadata": {
        "id": "WO1Wgb_ZVb8Z"
      },
      "source": [
        "#Name - Chinmayee Taralkar\n",
        "#Rollno - BECOB262\n",
        "#HPC Assignment: Find max no, min no, mean, standard deviation in the vector"
      ]
    },
    {
      "cell_type": "code",
      "metadata": {
        "colab": {
          "base_uri": "https://localhost:8080/"
        },
        "id": "J4iCMkXIJYpk",
        "outputId": "8655b26a-0142-4c38-ef7f-1d9ccb8aede2"
      },
      "source": [
        "!nvcc --version"
      ],
      "execution_count": null,
      "outputs": [
        {
          "output_type": "stream",
          "text": [
            "nvcc: NVIDIA (R) Cuda compiler driver\n",
            "Copyright (c) 2005-2019 NVIDIA Corporation\n",
            "Built on Sun_Jul_28_19:07:16_PDT_2019\n",
            "Cuda compilation tools, release 10.1, V10.1.243\n"
          ],
          "name": "stdout"
        }
      ]
    },
    {
      "cell_type": "code",
      "metadata": {
        "colab": {
          "base_uri": "https://localhost:8080/"
        },
        "id": "qX8TJ_vLJ34S",
        "outputId": "270ef496-34bd-42f2-bce8-46d5ffad91a0"
      },
      "source": [
        "!pip install git+git://github.com/andreinechaev/nvcc4jupyter.git"
      ],
      "execution_count": null,
      "outputs": [
        {
          "output_type": "stream",
          "text": [
            "Collecting git+git://github.com/andreinechaev/nvcc4jupyter.git\n",
            "  Cloning git://github.com/andreinechaev/nvcc4jupyter.git to /tmp/pip-req-build-7chm68oh\n",
            "  Running command git clone -q git://github.com/andreinechaev/nvcc4jupyter.git /tmp/pip-req-build-7chm68oh\n",
            "Building wheels for collected packages: NVCCPlugin\n",
            "  Building wheel for NVCCPlugin (setup.py) ... \u001b[?25l\u001b[?25hdone\n",
            "  Created wheel for NVCCPlugin: filename=NVCCPlugin-0.0.2-cp36-none-any.whl size=4307 sha256=06157ff1367f4efa4f4300f4414a3f53e30ddd34cdda45d73ae71b6bf0b977d8\n",
            "  Stored in directory: /tmp/pip-ephem-wheel-cache-6_dv4j8m/wheels/10/c2/05/ca241da37bff77d60d31a9174f988109c61ba989e4d4650516\n",
            "Successfully built NVCCPlugin\n",
            "Installing collected packages: NVCCPlugin\n",
            "Successfully installed NVCCPlugin-0.0.2\n"
          ],
          "name": "stdout"
        }
      ]
    },
    {
      "cell_type": "code",
      "metadata": {
        "colab": {
          "base_uri": "https://localhost:8080/"
        },
        "id": "GBSLHPNyKkE0",
        "outputId": "e222375f-3066-400b-edae-8f9d01486144"
      },
      "source": [
        "%load_ext nvcc_plugin"
      ],
      "execution_count": null,
      "outputs": [
        {
          "output_type": "stream",
          "text": [
            "created output directory at /content/src\n",
            "Out bin /content/result.out\n"
          ],
          "name": "stdout"
        }
      ]
    },
    {
      "cell_type": "markdown",
      "metadata": {
        "id": "vclKGiHNeWyc"
      },
      "source": [
        "## Find the Maximum element"
      ]
    },
    {
      "cell_type": "code",
      "metadata": {
        "id": "5muJ2yJWLQKg",
        "colab": {
          "base_uri": "https://localhost:8080/"
        },
        "outputId": "82414e95-09f4-453c-f625-f7dcb1b8769d"
      },
      "source": [
        "%%cu\n",
        "#include<iostream>\n",
        "#include<cstdio>\n",
        "\n",
        "using namespace std;\n",
        "\n",
        "__global__ void maximum(int *a,int *b,int n)\n",
        "{\n",
        "\tint block=256*blockIdx.x;\n",
        " \n",
        "\tint max=0;\n",
        "\n",
        "\tfor(int i=block;i<min(256+block,n);i++)\n",
        "\t{\n",
        "\t\tif(max<a[i])\n",
        "\t\t{\n",
        "\t\t\tmax=a[i];\t\n",
        "\t\t}\n",
        "\t}\n",
        "\tb[blockIdx.x]=max;\n",
        "\n",
        "}\n",
        "\n",
        "int main()\n",
        "{\n",
        "\tint n = 512;\n",
        "\t\tint a[n];\n",
        "\tcudaEvent_t start,end;\n",
        "\n",
        "\tfor(int i=0;i<n;i++)\n",
        "\t{\n",
        "\t\ta[i]=i+1;\n",
        "\t}\n",
        "\n",
        "\tint *ad,*bd;\n",
        "\tint size=n*sizeof(int);\n",
        "\t\n",
        "\tcudaMalloc(&ad,size);\n",
        "\tcudaMemcpy(ad,a,size,cudaMemcpyHostToDevice);\n",
        "\n",
        "\tint grids=ceil(n*1.0f/256.0f);\n",
        "\tcudaMalloc(&bd,grids*sizeof(int));\n",
        "\n",
        "\tdim3 grid(grids,1);\n",
        "\tdim3 block(1,1);\n",
        "\n",
        "\tcudaEventCreate(&start);\n",
        "\tcudaEventCreate(&end);\n",
        "\tcudaEventRecord(start);\n",
        "\n",
        "\twhile(n>1)\n",
        "\t{\n",
        "\t\tmaximum<<<grids,block>>>(ad,bd,n);\n",
        "\t\tn=ceil(n*1.0f/256.0f);\n",
        "\t\tcudaMemcpy(ad,bd,n*sizeof(int),cudaMemcpyDeviceToDevice);\n",
        "\t}\n",
        "\n",
        "\tcudaEventRecord(end);\n",
        "\tcudaEventSynchronize(end);\n",
        "\n",
        "\tfloat time=0;\n",
        "\tcudaEventElapsedTime(&time,start,end);\n",
        "\t\n",
        "\tint ans[2];\n",
        "\n",
        "\tcudaMemcpy(ans,ad,4,cudaMemcpyDeviceToHost);\n",
        "\t\n",
        "\tcout<<\"The maximum element is \"<<ans[0]<<endl;\n",
        "\t\n",
        "\tcout<<\"The time required do it is \";\n",
        "\tcout<<time<<endl;\n",
        "} \n"
      ],
      "execution_count": null,
      "outputs": [
        {
          "output_type": "stream",
          "text": [
            "The maximum element is 512\n",
            "The time required do it is 0.036192\n",
            "\n"
          ],
          "name": "stdout"
        }
      ]
    },
    {
      "cell_type": "markdown",
      "metadata": {
        "id": "rC8h4tiqedPD"
      },
      "source": [
        "## Find the Minimum element\n"
      ]
    },
    {
      "cell_type": "code",
      "metadata": {
        "colab": {
          "base_uri": "https://localhost:8080/"
        },
        "id": "-ElLQAJdXvPw",
        "outputId": "157d2bec-2561-4499-cdf6-c39fb33be351"
      },
      "source": [
        "%%cu\n",
        "#include<iostream>\n",
        "#include<cstdio>\n",
        "\n",
        "using namespace std;\n",
        "\n",
        "__global__ void minimum(int *a,int *b,int n)\n",
        "{\n",
        "\tint block=256*blockIdx.x;\n",
        "\tint mini=7888888;\n",
        "\n",
        "\tfor(int i=block;i<min(256+block,n);i++)\n",
        "\t{\n",
        "\t\tif(mini>a[i])\n",
        "\t\t{\n",
        "\t\t\tmini=a[i];\n",
        "\t\t}\n",
        "\t}\n",
        "\tb[blockIdx.x]=mini;\n",
        "}\n",
        "\n",
        "int main()\n",
        "{\n",
        "\tint n = 512;\n",
        "\tint a[n];\n",
        "\n",
        "\tcudaEvent_t start,end;\n",
        "\tcudaEventCreate(&start);\n",
        "\tcudaEventCreate(&end);\n",
        "\n",
        "\tfor(int i=0;i<n;i++)\n",
        "\t{\n",
        "\t\ta[i]=i+1;\n",
        "\t}\n",
        "\t\n",
        "\tint *ad,*bd;\n",
        "\tint size=n*sizeof(int);\n",
        "\t\n",
        "\tcudaMalloc(&ad,size);\n",
        "\tcudaMemcpy(ad,a,size,cudaMemcpyHostToDevice);\n",
        "\n",
        "  int grids=ceil(n*1.0f/256.0f);\n",
        "\tcudaMalloc(&bd,grids*sizeof(int));\n",
        "\n",
        "\tdim3 grid(grids,1);\n",
        "\tdim3 block(1,1);\n",
        "\tcudaEventRecord(start);\n",
        "\twhile(n>1)\n",
        "\t{\n",
        "\t\tminimum<<<grids,block>>>(ad,bd,n);\n",
        "\t\tn=ceil(n*1.0f/256.0f);\n",
        "\t\tcudaMemcpy(ad,bd,n*sizeof(int),cudaMemcpyDeviceToDevice);\n",
        "\t}\n",
        "\n",
        "\tcudaEventRecord(end);\n",
        "\tcudaEventSynchronize(end);\n",
        "\tfloat time=0;\n",
        "\tcudaEventElapsedTime(&time,start,end);\n",
        "\t\n",
        "\tint ans[2];\n",
        "\n",
        "\tcudaMemcpy(ans,ad,4,cudaMemcpyDeviceToHost);\n",
        "\t\n",
        "\tcout<<\"The minimum element is \"<<ans[0]<<endl;\n",
        "\t\n",
        "\tcout<<\"The time required dor it is \";\n",
        "\tcout<<time<<endl;\n",
        "} \n"
      ],
      "execution_count": null,
      "outputs": [
        {
          "output_type": "stream",
          "text": [
            "The minimum element is 1\n",
            "The time required dor it is 0.06544\n",
            "\n"
          ],
          "name": "stdout"
        }
      ]
    },
    {
      "cell_type": "markdown",
      "metadata": {
        "id": "zTLYqg6KfxFv"
      },
      "source": [
        "## Calculate the Mean"
      ]
    },
    {
      "cell_type": "code",
      "metadata": {
        "colab": {
          "base_uri": "https://localhost:8080/"
        },
        "id": "4opPnKjsfClN",
        "outputId": "679d2c61-407f-40e0-9f82-5f2a1c6c0f83"
      },
      "source": [
        "%%cu\n",
        "#include<iostream>\n",
        "#include<cstdio>\n",
        "\n",
        "using namespace std;\n",
        "\n",
        "__global__ void sum(int *a,int *b,int n)\n",
        "{\n",
        "\n",
        "\tint block=256*blockIdx.x;\n",
        "\tint sum=0;\n",
        "\n",
        "\n",
        "\tfor(int i=block;i<min(block+256,n);i++)\n",
        "\t{\n",
        "\t\tsum=sum+a[i];\n",
        "\t}\n",
        "\tb[blockIdx.x]=sum;\n",
        "\n",
        "}\n",
        "\n",
        "int main()\n",
        "{\n",
        "\tint n = 512;\n",
        "\tint a[n];\n",
        "\tfor(int i=0;i<n;i++)\n",
        "\t{\n",
        "\t\ta[i]=i+1;\n",
        "\t}\n",
        "\n",
        "\n",
        "\tint *ad,*bd;\n",
        "\tint size=n*sizeof(int);\n",
        "\n",
        "\tcudaMalloc(&ad,size);\n",
        "\tcudaMemcpy(ad,a,size,cudaMemcpyHostToDevice);\n",
        "\n",
        "\tint grids=ceil(n*1.0f/256.0f);\n",
        "\n",
        "\tcudaMalloc(&bd,grids*sizeof(int));\n",
        "\n",
        "\tdim3 grid(grids,1);\n",
        "\tdim3 block(1,1);\n",
        "\tint p=n;\n",
        "\n",
        "\tcudaEvent_t start,end;\n",
        "\tcudaEventCreate(&start);\n",
        "\tcudaEventCreate(&end);\n",
        "\tcudaEventRecord(start);\n",
        "\n",
        "\twhile(n>1)\n",
        "\t{\n",
        "\n",
        "\t\tsum<<<grid,block>>>(ad,bd,n);\n",
        "\t\tn=ceil(n*1.0f/256.0f);\n",
        "\t\tcudaMemcpy(ad,bd,n*sizeof(int),cudaMemcpyDeviceToDevice);\n",
        "\n",
        "\t}\n",
        "\n",
        "\tcudaEventRecord(end);\n",
        "\tcudaEventSynchronize(end);\n",
        "\n",
        "  float time=0;\n",
        "\n",
        "\tcudaEventElapsedTime(&time,start,end);\n",
        "\n",
        "  cout<<\"The time required is \"<<time<<endl;\n",
        "\n",
        "\tint add[2];\n",
        "\tn=p;\n",
        "\n",
        "\tcudaMemcpy(add,ad,4,cudaMemcpyDeviceToHost);\n",
        "\n",
        "\tcout<<\"The sum is  \"<<add[0]<<endl;\n",
        "\n",
        "\tfloat mean=0.0f;\n",
        "\n",
        "\tmean=add[0]/(n*1.0f);\n",
        "\n",
        "\tcout<<\"The mean is   \"<<mean<<endl;\n",
        "}\n"
      ],
      "execution_count": null,
      "outputs": [
        {
          "output_type": "stream",
          "text": [
            "The time required is 0.036384\n",
            "The sum is  131328\n",
            "The mean is   256.5\n",
            "\n"
          ],
          "name": "stdout"
        }
      ]
    },
    {
      "cell_type": "markdown",
      "metadata": {
        "id": "gV6d9ExWf2l2"
      },
      "source": [
        "## Calculate the Standard Deviation"
      ]
    },
    {
      "cell_type": "code",
      "metadata": {
        "colab": {
          "base_uri": "https://localhost:8080/"
        },
        "id": "r2xlfZfZfmqA",
        "outputId": "ea3ed7b1-9cc3-40f8-ddab-87359aedebaa"
      },
      "source": [
        "%%cu\n",
        "\n",
        "#include<iostream>\n",
        "#include<cstdio>\n",
        "\n",
        "using namespace std;\n",
        "\n",
        "\n",
        "__global__ void var(int *a,int *b,int n,float mean)\n",
        "{\n",
        "\n",
        "\tint block=256*blockIdx.x;\n",
        "\tfloat sum=0;\n",
        "\tfor(int i=block;i<min(block+256,n);i++)\n",
        "\t{\n",
        "\tsum=sum+(a[i]-mean)*(a[i]-mean);\n",
        "\t}\n",
        "\tb[blockIdx.x]=sum;\n",
        "\n",
        "}\n",
        "\n",
        "__global__ void sum(int *a,int *b,int n)\n",
        "{\n",
        "\n",
        "\tint block=256*blockIdx.x;\n",
        "\tint sum=0;\n",
        "\n",
        "\tfor(int i=block;i<min(block+256,n);i++)\n",
        "\t{\n",
        "\n",
        "\tsum=sum+a[i];\n",
        "\n",
        "\t}\n",
        "\tb[blockIdx.x]=sum;\n",
        "\n",
        "}\n",
        "\n",
        "int main()\n",
        "{\n",
        "\tint n = 512;\n",
        "\tint a[n];\n",
        "\n",
        "\tfor(int i=0;i<n;i++)\n",
        "\n",
        "\t{\n",
        "\n",
        "\ta[i]=i+1;\n",
        "\n",
        "\n",
        "\t}\n",
        "\n",
        "\n",
        "\tint *ad,*bd;\n",
        "\n",
        "\tint size=n*sizeof(int);\n",
        "\n",
        "\n",
        "\tcudaMalloc(&ad,size);\n",
        "\tcudaMemcpy(ad,a,size,cudaMemcpyHostToDevice);\n",
        "\n",
        "\n",
        "\tint grids=ceil(n*1.0f/256.0f);\n",
        "\n",
        "\tcudaMalloc(&bd,grids*sizeof(int));\n",
        "\n",
        "\tdim3 grid(grids,1);\n",
        "\tdim3 block(1,1);\n",
        "\n",
        "\tint p=n;\n",
        "\n",
        "\tcudaEvent_t start,end;\n",
        "\tcudaEventCreate(&start);\n",
        "\tcudaEventCreate(&end);\n",
        "\tcudaEventRecord(start);\n",
        "\n",
        "\n",
        "\n",
        "\twhile(n>1)\n",
        "\t{\n",
        "\n",
        "\t\tsum<<<grid,block>>>(ad,bd,n);\n",
        "\t\tn=ceil(n*1.0f/256.0f);\n",
        "\t\tcudaMemcpy(ad,bd,n*sizeof(int),cudaMemcpyDeviceToDevice);\n",
        "\n",
        "\t}\n",
        "\n",
        "\n",
        "\tcudaEventRecord(end);\n",
        "\tcudaEventSynchronize(end);\n",
        "\n",
        "\tfloat time=0;\n",
        "\n",
        "\tcudaEventElapsedTime(&time,start,end);\n",
        "\n",
        "\tcout<<\"The time required is \"<<time<<endl;\n",
        "\n",
        "\tint add[2];\n",
        "\tn=p;\n",
        "\n",
        "\n",
        "\tcudaMemcpy(add,ad,4,cudaMemcpyDeviceToHost);\n",
        "\n",
        "\tcout<<\"The sum is  \"<<add[0]<<endl;\n",
        "\n",
        "\tfloat mean=0.0f;\n",
        "\n",
        "\tmean=add[0]/(n*1.0f);\n",
        "\n",
        "\tcout<<\"The mean is   \"<<mean<<endl;\n",
        "\n",
        "\tcudaMalloc(&ad,size);\n",
        "\tcudaMemcpy(ad,a,size,cudaMemcpyHostToDevice);\n",
        "\n",
        "\tcudaMalloc(&bd,grids*sizeof(int));\n",
        "\n",
        "\tvar<<<grid,block>>>(ad,bd,n,mean);\n",
        "\tn=ceil(n*1.0f/256.0f);\t\n",
        "\n",
        "\tsum<<<grid,block>>>(bd,ad,n);\n",
        "\n",
        "\n",
        "\n",
        "\tcudaMemcpy(add,ad,4,cudaMemcpyDeviceToHost);\n",
        "\n",
        "\tfloat sd=sqrt(add[0]/p*1.0f);\n",
        "\n",
        "\tcout<<\"The standard deviation is \"<<sd<<endl;\n",
        "\n",
        "}\n"
      ],
      "execution_count": null,
      "outputs": [
        {
          "output_type": "stream",
          "text": [
            "The time required is 0.039264\n",
            "The sum is  131328\n",
            "The mean is   256.5\n",
            "The standard deviation is 147.801\n",
            "\n"
          ],
          "name": "stdout"
        }
      ]
    }
  ]
}